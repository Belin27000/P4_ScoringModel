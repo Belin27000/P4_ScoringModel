{
 "cells": [
  {
   "cell_type": "markdown",
   "metadata": {},
   "source": [
    "# Implementez un modèle de scoring"
   ]
  },
  {
   "cell_type": "markdown",
   "metadata": {},
   "source": [
    "## Import des libraries"
   ]
  },
  {
   "cell_type": "markdown",
   "metadata": {},
   "source": [
    "## Rapple de la mission\n",
    "Construire un modèle de scoring qui donnera une prédiction sur la probabilité de faillite d'un client de façon automatique."
   ]
  },
  {
   "cell_type": "code",
   "execution_count": 92,
   "metadata": {},
   "outputs": [],
   "source": [
    "import time\n",
    "import pandas as pd\n",
    "import numpy as np\n",
    "from sklearn.preprocessing import OneHotEncoder, StandardScaler\n",
    "from sklearn.model_selection import train_test_split, GridSearchCV\n",
    "from sklearn.impute import SimpleImputer\n",
    "from sklearn.ensemble import RandomForestClassifier\n",
    "from sklearn.compose import make_column_selector, make_column_transformer\n",
    "from IPython.display import display, HTML\n",
    "from imblearn.over_sampling import SMOTE\n",
    "from contextlib import contextmanager\n",
    "from imblearn.pipeline import Pipeline\n",
    "from sklearn.model_selection import cross_val_score, StratifiedKFold\n",
    "from sklearn.linear_model import LogisticRegression  \n",
    "from sklearn.metrics import classification_report\n",
    "from lightgbm import LGBMClassifier\n",
    "from xgboost import XGBClassifier\n"
   ]
  },
  {
   "cell_type": "code",
   "execution_count": 93,
   "metadata": {},
   "outputs": [],
   "source": [
    "def display_info(title = \"\",titleTag=\"h2\",tag=\"div\",pTag=\"p\",message=\"Params allowed: title,tag,message,color\",bgd=\"#96d6ee\", styleClass=\"alert alert-block alert-info\", fontsize=\"\" , color=\"black\"):\n",
    "    if (title!=\"\"):\n",
    "        display(HTML(f\"\"\"<{titleTag} style='color:{color};font-size:{fontsize}'>{title}</{titleTag}>\"\"\"))\n",
    "    else:\n",
    "        display(HTML(f\"\"\"\n",
    "                     <{tag} style='background:{bgd}; padding-top:5px; padding-bottom:5px; padding-left:10px;' class='{styleClass}'><{pTag} style='color:{color}; font-size:{fontsize}'>{message}</{pTag}></{tag}>\n",
    "\"\"\"))"
   ]
  },
  {
   "cell_type": "code",
   "execution_count": 94,
   "metadata": {},
   "outputs": [],
   "source": [
    "app_train = pd.read_csv('../datas/application_train.csv')\n",
    "app_test = pd.read_csv('../datas/application_test.csv')\n",
    "bureau = pd.read_csv('../datas/bureau.csv')\n",
    "bureau_balance = pd.read_csv('../datas/bureau_balance.csv')\n",
    "pos_CASH_balance = pd.read_csv('../datas/POS_CASH_balance.csv')\n",
    "credit_card_balance = pd.read_csv('../datas/credit_card_balance.csv')\n",
    "previous_application = pd.read_csv('../datas/previous_application.csv')\n",
    "installments_payments = pd.read_csv('../datas/installments_payments.csv')\n",
    "columns_description = pd.read_csv('../datas/HomeCredit_columns_description.csv', sep=';', encoding=\"unicode_escape\")"
   ]
  },
  {
   "cell_type": "code",
   "execution_count": 95,
   "metadata": {},
   "outputs": [],
   "source": [
    "@contextmanager\n",
    "def timer(title):\n",
    "    t0=time.time()\n",
    "    yield\n",
    "    print(\"{} - terminé en {:.000f}s\".format(title, time.time()-t0))"
   ]
  },
  {
   "cell_type": "code",
   "execution_count": 96,
   "metadata": {},
   "outputs": [
    {
     "data": {
      "text/html": [
       "\n",
       "                     <div style='background:#96d6ee; padding-top:5px; padding-bottom:5px; padding-left:10px;' class='alert alert-block alert-info'><p style='color:black; font-size:'>Split des données en 2 en gardant la même proposrtion au niveau de 'TARGET'</p></div>\n"
      ],
      "text/plain": [
       "<IPython.core.display.HTML object>"
      ]
     },
     "metadata": {},
     "output_type": "display_data"
    }
   ],
   "source": [
    "display_info(message=\"Split des données en 2 en gardant la même proposrtion au niveau de 'TARGET'\")\n",
    "def split_df(df):\n",
    "    X=df.drop('TARGET', axis=1)\n",
    "    y=df['TARGET']\n",
    "    X_train, X_test,y_train, y_test = train_test_split(X,y,test_size=0.5, stratify=y, random_state=42)\n",
    "    return X_train, X_test,y_train, y_test"
   ]
  },
  {
   "cell_type": "code",
   "execution_count": 97,
   "metadata": {},
   "outputs": [
    {
     "data": {
      "text/html": [
       "\n",
       "                     <div style='background:#96d6ee; padding-top:5px; padding-bottom:5px; padding-left:10px;' class='alert alert-block alert-info'><p style='color:black; font-size:'>En lisant la documentations sklearn, on comprend que le SMOTE est en version expérimental. On utilisera donc imblearn qui en plus est facilement intégrable dans un pipeline</p></div>\n"
      ],
      "text/plain": [
       "<IPython.core.display.HTML object>"
      ]
     },
     "metadata": {},
     "output_type": "display_data"
    }
   ],
   "source": [
    "display_info(message=\"\"\"En lisant la documentations sklearn, on comprend que le SMOTE est en version expérimental. On utilisera donc imblearn qui en plus est facilement intégrable dans un pipeline\"\"\")"
   ]
  },
  {
   "cell_type": "code",
   "execution_count": 98,
   "metadata": {},
   "outputs": [
    {
     "data": {
      "text/html": [
       "<h2 style='color:red;font-size:30px'>PIPELINE</h2>"
      ],
      "text/plain": [
       "<IPython.core.display.HTML object>"
      ]
     },
     "metadata": {},
     "output_type": "display_data"
    },
    {
     "data": {
      "text/html": [
       "\n",
       "                     <div style='background:#96d6ee; padding-top:5px; padding-bottom:5px; padding-left:10px;' class='alert alert-block alert-info'><p style='color:black; font-size:'>On va realiser notre modelisation en automatisant toute notre logique.</br>\n",
       "             On va donc utiliser le plus possible les pipeline mis à disposition dans sklearn</p></div>\n"
      ],
      "text/plain": [
       "<IPython.core.display.HTML object>"
      ]
     },
     "metadata": {},
     "output_type": "display_data"
    },
    {
     "data": {
      "text/html": [
       "\n",
       "                     <div style='background:#96d6ee; padding-top:5px; padding-bottom:5px; padding-left:10px;' class='alert alert-block alert-info'><p style='color:black; font-size:'>On commence par séparer nos variable en utilisant make_column_selector</p></div>\n"
      ],
      "text/plain": [
       "<IPython.core.display.HTML object>"
      ]
     },
     "metadata": {},
     "output_type": "display_data"
    }
   ],
   "source": [
    "display_info(title=\"PIPELINE\", color=\"red\",fontsize=\"30px\")\n",
    "display_info(message=\"\"\"On va realiser notre modelisation en automatisant toute notre logique.</br>\n",
    "             On va donc utiliser le plus possible les pipeline mis à disposition dans sklearn\"\"\")\n",
    "display_info(message=\"On commence par séparer nos variable en utilisant make_column_selector\")"
   ]
  },
  {
   "cell_type": "code",
   "execution_count": 102,
   "metadata": {},
   "outputs": [
    {
     "data": {
      "text/html": [
       "\n",
       "                     <div style='background:#96d6ee; padding-top:5px; padding-bottom:5px; padding-left:10px;' class='alert alert-block alert-info'><p style='color:black; font-size:'>On creer un pipeline pour chaque type de variables</p></div>\n"
      ],
      "text/plain": [
       "<IPython.core.display.HTML object>"
      ]
     },
     "metadata": {},
     "output_type": "display_data"
    },
    {
     "data": {
      "text/html": [
       "\n",
       "                     <div style='background:#96d6ee; padding-top:5px; padding-bottom:5px; padding-left:10px;' class='alert alert-block alert-info'><p style='color:black; font-size:'>On creer un pipeline générale qui va appliquer la modifcation souhaité sur nos differents type de variables</p></div>\n"
      ],
      "text/plain": [
       "<IPython.core.display.HTML object>"
      ]
     },
     "metadata": {},
     "output_type": "display_data"
    },
    {
     "data": {
      "text/html": [
       "\n",
       "                     <div style='background:#96d6ee; padding-top:5px; padding-bottom:5px; padding-left:10px;' class='alert alert-block alert-info'><p style='color:black; font-size:'>On teste ensuite nos différents modèle</p></div>\n"
      ],
      "text/plain": [
       "<IPython.core.display.HTML object>"
      ]
     },
     "metadata": {},
     "output_type": "display_data"
    },
    {
     "name": "stdout",
     "output_type": "stream",
     "text": [
      "Démarrage du test du modèle RandomForest\n",
      "Scores de validation croisée pour RandomForest: [0.69461822 0.69900245 0.69811818 0.69733826 0.69587459]\n",
      "Scores moyen RandomForest: 0.6969903382562115\n",
      "Calcul du score pour le model RandomForest - terminé en 395s\n",
      "Démarrage du test du modèle LogisticRegression\n"
     ]
    },
    {
     "name": "stderr",
     "output_type": "stream",
     "text": [
      "/Users/yann/FromNas/Training/IA Engineer/P4/P4_scoringModel/P4_env/lib/python3.11/site-packages/sklearn/linear_model/_logistic.py:469: ConvergenceWarning: lbfgs failed to converge (status=1):\n",
      "STOP: TOTAL NO. of ITERATIONS REACHED LIMIT.\n",
      "\n",
      "Increase the number of iterations (max_iter) or scale the data as shown in:\n",
      "    https://scikit-learn.org/stable/modules/preprocessing.html\n",
      "Please also refer to the documentation for alternative solver options:\n",
      "    https://scikit-learn.org/stable/modules/linear_model.html#logistic-regression\n",
      "  n_iter_i = _check_optimize_result(\n",
      "/Users/yann/FromNas/Training/IA Engineer/P4/P4_scoringModel/P4_env/lib/python3.11/site-packages/sklearn/linear_model/_logistic.py:469: ConvergenceWarning: lbfgs failed to converge (status=1):\n",
      "STOP: TOTAL NO. of ITERATIONS REACHED LIMIT.\n",
      "\n",
      "Increase the number of iterations (max_iter) or scale the data as shown in:\n",
      "    https://scikit-learn.org/stable/modules/preprocessing.html\n",
      "Please also refer to the documentation for alternative solver options:\n",
      "    https://scikit-learn.org/stable/modules/linear_model.html#logistic-regression\n",
      "  n_iter_i = _check_optimize_result(\n",
      "/Users/yann/FromNas/Training/IA Engineer/P4/P4_scoringModel/P4_env/lib/python3.11/site-packages/sklearn/linear_model/_logistic.py:469: ConvergenceWarning: lbfgs failed to converge (status=1):\n",
      "STOP: TOTAL NO. of ITERATIONS REACHED LIMIT.\n",
      "\n",
      "Increase the number of iterations (max_iter) or scale the data as shown in:\n",
      "    https://scikit-learn.org/stable/modules/preprocessing.html\n",
      "Please also refer to the documentation for alternative solver options:\n",
      "    https://scikit-learn.org/stable/modules/linear_model.html#logistic-regression\n",
      "  n_iter_i = _check_optimize_result(\n",
      "/Users/yann/FromNas/Training/IA Engineer/P4/P4_scoringModel/P4_env/lib/python3.11/site-packages/sklearn/linear_model/_logistic.py:469: ConvergenceWarning: lbfgs failed to converge (status=1):\n",
      "STOP: TOTAL NO. of ITERATIONS REACHED LIMIT.\n",
      "\n",
      "Increase the number of iterations (max_iter) or scale the data as shown in:\n",
      "    https://scikit-learn.org/stable/modules/preprocessing.html\n",
      "Please also refer to the documentation for alternative solver options:\n",
      "    https://scikit-learn.org/stable/modules/linear_model.html#logistic-regression\n",
      "  n_iter_i = _check_optimize_result(\n",
      "/Users/yann/FromNas/Training/IA Engineer/P4/P4_scoringModel/P4_env/lib/python3.11/site-packages/sklearn/linear_model/_logistic.py:469: ConvergenceWarning: lbfgs failed to converge (status=1):\n",
      "STOP: TOTAL NO. of ITERATIONS REACHED LIMIT.\n",
      "\n",
      "Increase the number of iterations (max_iter) or scale the data as shown in:\n",
      "    https://scikit-learn.org/stable/modules/preprocessing.html\n",
      "Please also refer to the documentation for alternative solver options:\n",
      "    https://scikit-learn.org/stable/modules/linear_model.html#logistic-regression\n",
      "  n_iter_i = _check_optimize_result(\n"
     ]
    },
    {
     "name": "stdout",
     "output_type": "stream",
     "text": [
      "Scores de validation croisée pour LogisticRegression: [0.72832956 0.7309579  0.73751136 0.74237018 0.73144054]\n",
      "Scores moyen LogisticRegression: 0.7341219077168792\n",
      "Calcul du score pour le model LogisticRegression - terminé en 26s\n",
      "Démarrage du test du modèle LGBM\n",
      "[LightGBM] [Info] Number of positive: 113074, number of negative: 113074\n",
      "[LightGBM] [Info] Auto-choosing row-wise multi-threading, the overhead of testing was 0.033114 seconds.\n",
      "You can set `force_row_wise=true` to remove the overhead.\n",
      "And if memory is not enough, you can set `force_col_wise=true`.\n",
      "[LightGBM] [Info] Total Bins 50648\n",
      "[LightGBM] [Info] Number of data points in the train set: 226148, number of used features: 236\n",
      "[LightGBM] [Info] [binary:BoostFromScore]: pavg=0.500000 -> initscore=0.000000\n",
      "[LightGBM] [Info] Number of positive: 113074, number of negative: 113074\n",
      "[LightGBM] [Info] Auto-choosing row-wise multi-threading, the overhead of testing was 0.030451 seconds.\n",
      "You can set `force_row_wise=true` to remove the overhead.\n",
      "And if memory is not enough, you can set `force_col_wise=true`.\n",
      "[LightGBM] [Info] Total Bins 50914\n",
      "[LightGBM] [Info] Number of data points in the train set: 226148, number of used features: 234\n",
      "[LightGBM] [Info] [binary:BoostFromScore]: pavg=0.500000 -> initscore=0.000000\n",
      "[LightGBM] [Info] Number of positive: 113074, number of negative: 113074\n",
      "[LightGBM] [Info] Auto-choosing row-wise multi-threading, the overhead of testing was 0.032039 seconds.\n",
      "You can set `force_row_wise=true` to remove the overhead.\n",
      "And if memory is not enough, you can set `force_col_wise=true`.\n",
      "[LightGBM] [Info] Total Bins 50805\n",
      "[LightGBM] [Info] Number of data points in the train set: 226148, number of used features: 235\n",
      "[LightGBM] [Info] [binary:BoostFromScore]: pavg=0.500000 -> initscore=0.000000\n",
      "[LightGBM] [Info] Number of positive: 113075, number of negative: 113075\n",
      "[LightGBM] [Info] Auto-choosing row-wise multi-threading, the overhead of testing was 0.032215 seconds.\n",
      "You can set `force_row_wise=true` to remove the overhead.\n",
      "And if memory is not enough, you can set `force_col_wise=true`.\n",
      "[LightGBM] [Info] Total Bins 50896\n",
      "[LightGBM] [Info] Number of data points in the train set: 226150, number of used features: 234\n",
      "[LightGBM] [Info] [binary:BoostFromScore]: pavg=0.500000 -> initscore=0.000000\n",
      "[LightGBM] [Info] Number of positive: 113075, number of negative: 113075\n",
      "[LightGBM] [Info] Auto-choosing row-wise multi-threading, the overhead of testing was 0.029949 seconds.\n",
      "You can set `force_row_wise=true` to remove the overhead.\n",
      "And if memory is not enough, you can set `force_col_wise=true`.\n",
      "[LightGBM] [Info] Total Bins 50688\n",
      "[LightGBM] [Info] Number of data points in the train set: 226150, number of used features: 236\n",
      "[LightGBM] [Info] [binary:BoostFromScore]: pavg=0.500000 -> initscore=0.000000\n",
      "Scores de validation croisée pour LGBM: [0.74265028 0.74562216 0.7445209  0.75297256 0.74369759]\n",
      "Scores moyen LGBM: 0.7458926952290938\n",
      "Calcul du score pour le model LGBM - terminé en 21s\n",
      "Démarrage du test du modèle XGBOOST\n",
      "Scores de validation croisée pour XGBOOST: [0.7315788  0.73386266 0.73621397 0.73929482 0.73334978]\n",
      "Scores moyen XGBOOST: 0.7348600065470593\n",
      "Calcul du score pour le model XGBOOST - terminé en 22s\n",
      "\n",
      "Meilleur modèle : LGBM\n",
      "\n",
      "Score moyen du meilleur modèle : 0.7458926952290938\n"
     ]
    }
   ],
   "source": [
    "numerical_features = make_column_selector(dtype_include=np.number)\n",
    "categorical_features = make_column_selector(dtype_exclude=np.number)\n",
    "\n",
    "display_info(message=\"On creer un pipeline pour chaque type de variables\")\n",
    "numerical_pipeline = Pipeline([\n",
    "    (\"imputer\",SimpleImputer(strategy=\"mean\")),\n",
    "    (\"scaler\",StandardScaler())\n",
    "    ])\n",
    "\n",
    "categorical_pipeline = Pipeline([\n",
    "    (\"imputer\",SimpleImputer(strategy='most_frequent')),\n",
    "    (\"encoder\",OneHotEncoder(handle_unknown=\"ignore\"))\n",
    "    ])\n",
    "\n",
    "# categorical_pipeline = Pipeline(SimpleImputer(strategy='most_frequent'), OneHotEncoder())\n",
    "\n",
    "display_info(message=\"On creer un pipeline générale qui va appliquer la modifcation souhaité sur nos differents type de variables\")\n",
    "\n",
    "preprocessor =make_column_transformer(\n",
    "    (numerical_pipeline,numerical_features),\n",
    "    (categorical_pipeline, categorical_features)\n",
    "    )\n",
    "\n",
    "models = {\n",
    "    'RandomForest': RandomForestClassifier(random_state=42),\n",
    "    'LogisticRegression': LogisticRegression( random_state=42),\n",
    "    'LGBM': LGBMClassifier(random_state=42),\n",
    "    'XGBOOST': XGBClassifier(random_state=42)\n",
    "}\n",
    "\n",
    "\n",
    "X_train, X_initial_test, y_train, y_initial_test= split_df(app_train)\n",
    "\n",
    "X_test,X_val,y_test,y_val=train_test_split(X_initial_test,y_initial_test, test_size=0.5, stratify=y_initial_test, random_state=42)\n",
    "\n",
    "display_info(message=\"On teste ensuite nos différents modèle\")\n",
    "best_model_name = None\n",
    "best_score = -float('inf')\n",
    "for name, model in models.items():\n",
    "    print(f\"Démarrage du test du modèle {name}\")\n",
    "    with timer(f'Calcul du score pour le model {name}'):\n",
    "        model_pipeline = Pipeline([\n",
    "            (\"preprocessor\",preprocessor),\n",
    "            (\"smote\",SMOTE(random_state=42)),\n",
    "            (\"classifier\",model)\n",
    "        ])\n",
    "        kf = StratifiedKFold(n_splits=5, shuffle=True, random_state=42)\n",
    "        scores = cross_val_score(model_pipeline, X_train, y_train, cv=kf, scoring='roc_auc')\n",
    "        mean_score=scores.mean()\n",
    "        print(f\"Scores de validation croisée pour {name}:\", scores)\n",
    "        print(f\"Scores moyen {name}:\", mean_score)\n",
    "\n",
    "        if mean_score > best_score:\n",
    "            best_score=mean_score\n",
    "            best_model_name=name\n",
    "print(\"\\nMeilleur modèle :\", best_model_name)\n",
    "print(\"\\nScore moyen du meilleur modèle :\", best_score)"
   ]
  },
  {
   "cell_type": "code",
   "execution_count": null,
   "metadata": {},
   "outputs": [
    {
     "data": {
      "text/html": [
       "\n",
       "                     <div style='background:#96d6ee; padding-top:5px; padding-bottom:5px; padding-left:10px;' class='alert alert-block alert-info'><p style='color:black; font-size:'> Le meilleur algorithme sans amélioration des hyper paramètre LGBM</p></div>\n"
      ],
      "text/plain": [
       "<IPython.core.display.HTML object>"
      ]
     },
     "metadata": {},
     "output_type": "display_data"
    }
   ],
   "source": [
    "display_info(message=f\" Le meilleur algorithme sans amélioration des hyper paramètre {best_model_name}\")\n",
    "\n",
    "# Paramètres pour GridSearchCV : on teste chaque modèle\n",
    "param_grid = [\n",
    "    {'classifier': [models[{best_model_name}]]}\n",
    "]\n",
    "grid_search = GridSearchCV(model_pipeline,param_grid, cv=5, scoring='roc_auc')\n",
    "\n",
    "display_info(message=\"on test notre model sur notre jeu de données de test\")\n",
    "with timer(title=(f\"Modelisation et prediction du model\")):\n",
    "    model_pipeline.fit(X_train,y_train)\n",
    "    y_pred = model_pipeline.predict(X_test)\n",
    "display_info(message=\"on compare nos valeur predite sur notre jeu de données de test au valeur a predire y_test mis de côté\")\n",
    "print(classification_report(y_test, y_pred))\n",
    "model.fit(X_train, y_train)"
   ]
  },
  {
   "cell_type": "code",
   "execution_count": null,
   "metadata": {},
   "outputs": [],
   "source": []
  }
 ],
 "metadata": {
  "kernelspec": {
   "display_name": "P4_env",
   "language": "python",
   "name": "python3"
  },
  "language_info": {
   "codemirror_mode": {
    "name": "ipython",
    "version": 3
   },
   "file_extension": ".py",
   "mimetype": "text/x-python",
   "name": "python",
   "nbconvert_exporter": "python",
   "pygments_lexer": "ipython3",
   "version": "3.11.7"
  }
 },
 "nbformat": 4,
 "nbformat_minor": 2
}
